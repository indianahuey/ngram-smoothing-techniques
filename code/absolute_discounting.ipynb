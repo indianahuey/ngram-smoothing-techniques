{
 "cells": [
  {
   "cell_type": "code",
   "execution_count": 1,
   "id": "4d2d812d",
   "metadata": {},
   "outputs": [],
   "source": [
    "import pickle\n",
    "from math import log10\n",
    "from pathlib import Path\n",
    "from tqdm import tqdm"
   ]
  },
  {
   "cell_type": "markdown",
   "id": "d7103f33",
   "metadata": {},
   "source": [
    "## Save Train Data as List of Sentences for Preprocessing"
   ]
  },
  {
   "cell_type": "code",
   "execution_count": 2,
   "id": "bc48f931",
   "metadata": {},
   "outputs": [],
   "source": [
    "train = Path('../data/train')\n",
    "train_data = []"
   ]
  },
  {
   "cell_type": "code",
   "execution_count": 3,
   "id": "94a5f831",
   "metadata": {},
   "outputs": [],
   "source": [
    "with open(train, 'r') as f:\n",
    "    for line in f:\n",
    "        train_data.append(line[:-1])"
   ]
  },
  {
   "cell_type": "code",
   "execution_count": 4,
   "id": "9b52abd4",
   "metadata": {},
   "outputs": [],
   "source": [
    "with open('../data/train_data.pkl', 'wb') as f:\n",
    "    pickle.dump(train_data, f)"
   ]
  },
  {
   "cell_type": "markdown",
   "id": "6600c3ff",
   "metadata": {},
   "source": [
    "## Train Data"
   ]
  },
  {
   "cell_type": "code",
   "execution_count": 5,
   "id": "6fbaf81e",
   "metadata": {},
   "outputs": [],
   "source": [
    "with open('../data/train_data.pkl', 'rb') as f:\n",
    "    train_data = pickle.load(f)"
   ]
  },
  {
   "cell_type": "code",
   "execution_count": 6,
   "id": "2ad6c129",
   "metadata": {},
   "outputs": [],
   "source": [
    "data = train_data"
   ]
  },
  {
   "cell_type": "markdown",
   "id": "6e8e6426",
   "metadata": {},
   "source": [
    "## Dummy Data for Sanity Checking"
   ]
  },
  {
   "cell_type": "code",
   "execution_count": 8,
   "id": "1bd860aa",
   "metadata": {},
   "outputs": [],
   "source": [
    "# data = ['a a b b',\n",
    "#        'a c a b',\n",
    "#        'b a b a']"
   ]
  },
  {
   "cell_type": "markdown",
   "id": "f1cd31ab",
   "metadata": {},
   "source": [
    "## Preprocess Data"
   ]
  },
  {
   "cell_type": "code",
   "execution_count": null,
   "id": "dbaaa11f",
   "metadata": {},
   "outputs": [],
   "source": [
    "vocab = set(['<s>', '</s>', '<UNK>'])\n",
    "seen_words = set()\n",
    "new_data = []\n",
    "for line in data:\n",
    "    words = line.split()\n",
    "    sentence = \"\"\n",
    "    for word in words:\n",
    "        if word not in seen_words:\n",
    "            seen_words.add(word)\n",
    "            word = \"<UNK>\"\n",
    "        else:\n",
    "            if word not in vocab:\n",
    "                vocab.add(word)\n",
    "        sentence += word + \" \"\n",
    "    new_data.append(\"<s> \" + sentence + \"</s>\")\n",
    "new_data, vocab"
   ]
  },
  {
   "cell_type": "markdown",
   "id": "ba86de69",
   "metadata": {},
   "source": [
    "## Calculate Probabilities"
   ]
  },
  {
   "cell_type": "code",
   "execution_count": 10,
   "id": "b34fc203",
   "metadata": {},
   "outputs": [],
   "source": [
    "def get_ngram_tables(new_data):\n",
    "    num_words = 0\n",
    "    unigrams = {}\n",
    "    bigrams = {}\n",
    "    trigrams = {}\n",
    "    unigram_counts = 0\n",
    "    bigram_counts = {}\n",
    "    trigram_counts = {}\n",
    "    \n",
    "    for line in new_data:\n",
    "        words = line.split()\n",
    "        num_words += len(words)\n",
    "        \n",
    "        unigrams[words[0]] = unigrams.get(words[0], 0) + 1\n",
    "        unigrams[words[1]] = unigrams.get(words[1], 0) + 1\n",
    "        \n",
    "        unigram_counts += 1\n",
    "        unigram_counts += 1\n",
    "        \n",
    "        for i in range(2, len(words)):\n",
    "            w0 = words[i-2]\n",
    "            w1 = words[i-1]\n",
    "            w2 = words[i]\n",
    "            \n",
    "            if w0 not in bigrams.keys():\n",
    "                bigrams[w0] = {}\n",
    "            if w0 not in trigrams.keys():\n",
    "                trigrams[w0] = {}\n",
    "                trigram_counts[w0] = {}\n",
    "            if w1 not in trigrams[w0].keys():\n",
    "                trigrams[w0][w1] = {}\n",
    "            \n",
    "            unigrams[w2] = unigrams.get(w2, 0) + 1\n",
    "            bigrams[w0][w1] = bigrams[w0].get(w1, 0) + 1\n",
    "            trigrams[w0][w1][w2] = trigrams[w0][w1].get(w2, 0) + 1\n",
    "            \n",
    "            unigram_counts += 1\n",
    "            bigram_counts[w0] = bigram_counts.get(w0, 0) + 1\n",
    "            trigram_counts[w0][w1] = trigram_counts[w0].get(w1, 0) + 1\n",
    "            \n",
    "        if w1 not in bigrams.keys():\n",
    "            bigrams[w1] = {}\n",
    "        bigrams[w1][w2] = bigrams[w1].get(w2, 0) + 1\n",
    "        bigram_counts[w1] = bigram_counts.get(w1, 0) + 1\n",
    "        \n",
    "    return unigrams, bigrams, trigrams, unigram_counts, bigram_counts, trigram_counts\n",
    "            "
   ]
  },
  {
   "cell_type": "code",
   "execution_count": 11,
   "id": "676e5566",
   "metadata": {},
   "outputs": [],
   "source": [
    "def unigram_probs(unigrams, unigram_counts):\n",
    "    probs = {}\n",
    "    for word in unigrams.keys():\n",
    "        probs[word] = unigrams[word]/unigram_counts\n",
    "    return probs"
   ]
  },
  {
   "cell_type": "code",
   "execution_count": 12,
   "id": "5e926e1c",
   "metadata": {},
   "outputs": [],
   "source": [
    "def bigram_probs(bigrams, bigram_counts):\n",
    "    probs = {}\n",
    "    for word1 in bigrams.keys():\n",
    "        word2_dict = bigrams[word1].keys()\n",
    "        for word2 in word2_dict:\n",
    "            probs[word1] = probs.get(word1, {})\n",
    "            probs[word1][word2] = bigrams[word1][word2] / bigram_counts[word1]\n",
    "    return probs"
   ]
  },
  {
   "cell_type": "code",
   "execution_count": 13,
   "id": "e5c1b5dd",
   "metadata": {},
   "outputs": [],
   "source": [
    "def trigram_probs(trigrams, trigram_counts):\n",
    "    probs = {}\n",
    "    for word1 in trigrams.keys():\n",
    "        word2_dict = trigrams[word1].keys()\n",
    "        for word2 in word2_dict:\n",
    "            word3_dict = trigrams[word1][word2].keys()\n",
    "            for word3 in word3_dict:\n",
    "                probs[word1] = probs.get(word1, {})\n",
    "                probs[word1][word2] = probs[word1].get(word2, {})\n",
    "                probs[word1][word2][word3] = trigrams[word1][word2].get(word3, 0) / trigram_counts[word1][word2]\n",
    "    return probs"
   ]
  },
  {
   "cell_type": "code",
   "execution_count": 14,
   "id": "16abc905",
   "metadata": {},
   "outputs": [],
   "source": [
    "unigrams, bigrams, trigrams, unigram_counts, bigram_counts, trigram_counts = get_ngram_tables(new_data)\n",
    "uni_probs = unigram_probs(unigrams, unigram_counts)\n",
    "bi_probs = bigram_probs(bigrams, bigram_counts)\n",
    "tri_probs = trigram_probs(trigrams, trigram_counts)"
   ]
  },
  {
   "cell_type": "code",
   "execution_count": 15,
   "id": "a90894ad",
   "metadata": {},
   "outputs": [],
   "source": [
    "# Example\n",
    "# trigram_counts['der']['sloot']\n",
    "# trigrams['der']['sloot']"
   ]
  },
  {
   "cell_type": "markdown",
   "id": "7cf1d568",
   "metadata": {},
   "source": [
    "## Calculate $P_{abs}$"
   ]
  },
  {
   "cell_type": "markdown",
   "id": "c9cbb75f",
   "metadata": {},
   "source": [
    "For all $xyz$ in vocab, calculate $P_{abs}(z | xy)$ as\n",
    "\n",
    "$$P_{abs} = \\begin{cases}\\dfrac{C(xyz) - D}{C(xy)} & C(xyz)>0\\\\\\alpha(xy)P_{abs}(z|y) & \\text{otherwise}\\end{cases}$$\n",
    "\n",
    "where\n",
    "\n",
    "\n",
    "$$\\alpha(xy) = \\dfrac{reserved\\_mass(xy)}{1 - \\sum\\limits_{W: C(xyW) > 0}p(W | y)}$$\n",
    "\n",
    "and\n",
    "\n",
    "$$reserved\\_mass(xy) = \\dfrac{\\text{# of types starting with $xy$} * D}{C(xyW)}$$"
   ]
  },
  {
   "cell_type": "code",
   "execution_count": 16,
   "id": "cc41d9f8",
   "metadata": {},
   "outputs": [],
   "source": [
    "# Save calculated alphas and probabilities for reuse\n",
    "alphas = {}\n",
    "calculated_probs = {}"
   ]
  },
  {
   "cell_type": "code",
   "execution_count": 17,
   "id": "34a258d8",
   "metadata": {},
   "outputs": [],
   "source": [
    "def get_reserved_mass_uni(word1, bigrams, D):\n",
    "    if (word1 in bigrams.keys()):\n",
    "        total_count = 0\n",
    "        word2_lst = bigrams[word1]\n",
    "        for word2 in word2_lst:\n",
    "            total_count += bigrams[word1][word2]\n",
    "        return (len(word2_lst) * D) / total_count"
   ]
  },
  {
   "cell_type": "code",
   "execution_count": 18,
   "id": "ca58f02d",
   "metadata": {},
   "outputs": [],
   "source": [
    "def get_reserved_mass_bi(word1, word2, trigrams, D):\n",
    "    if (word1 in trigrams.keys()) and (word2 in trigrams[word1].keys()):\n",
    "        total_count = 0\n",
    "        word3_lst = trigrams[word1][word2]\n",
    "        for word3 in word3_lst:\n",
    "            total_count += trigrams[word1][word2][word3]\n",
    "        return (len(word3_lst) * D) / total_count\n",
    "    else:\n",
    "        return 0"
   ]
  },
  {
   "cell_type": "code",
   "execution_count": 19,
   "id": "48139865",
   "metadata": {},
   "outputs": [],
   "source": [
    "def get_alpha_uni(word1, vocab, uni_probs, bigrams, D):\n",
    "    res_mass = get_reserved_mass_uni(word1, bigrams, D)\n",
    "    if res_mass == 0:\n",
    "        return 0\n",
    "    \n",
    "    denom = 1\n",
    "    for word in vocab:\n",
    "        if (word1 in bigrams.keys()) and (word in bigrams[word1].keys()):\n",
    "            denom -= uni_probs[word]\n",
    "    if denom <= 0:  # python rounding causes probs to be slightly less than 0 sometimes\n",
    "        denom = 1e-9\n",
    "    return res_mass / denom"
   ]
  },
  {
   "cell_type": "code",
   "execution_count": 20,
   "id": "a6900f9e",
   "metadata": {},
   "outputs": [],
   "source": [
    "def get_alpha_bi(word1, word2, vocab, bi_probs, trigrams, D):\n",
    "    res_mass = get_reserved_mass_bi(word1, word2, trigrams, D)\n",
    "    if res_mass == 0:\n",
    "        return 0\n",
    "    \n",
    "    denom = 1\n",
    "    for word in vocab:\n",
    "        if (word1 in trigrams.keys()) and (word2 in trigrams[word1].keys()) and (word in trigrams[word1][word2].keys()):\n",
    "            denom -= bi_probs[word2][word]\n",
    "    if denom <= 0:  # python rounding causes probs to be slightly less than 0 sometimes\n",
    "        denom = 1e-9\n",
    "    return res_mass / denom"
   ]
  },
  {
   "cell_type": "code",
   "execution_count": 21,
   "id": "4f2f3266",
   "metadata": {},
   "outputs": [],
   "source": [
    "def get_p_abs_bi(word1, word2, unigrams, bigrams, uni_probs, D):\n",
    "    if (word1 in bigrams.keys()) and (word2 in bigrams[word1].keys()):\n",
    "        total = 0\n",
    "        for word in bigrams[word1].keys():\n",
    "            total += bigrams[word1][word]\n",
    "        return max((bigrams[word1][word2] - D) / total, 0)\n",
    "    else:\n",
    "        if (word1, word2) in alphas.keys():\n",
    "            alpha = alphas[(word1, word2)]\n",
    "        else:\n",
    "            alpha = get_alpha_uni(word1, vocab, uni_probs, bigrams, D)\n",
    "            alphas[(word1, word2)] = alpha\n",
    "        return uni_probs[word2] if alpha==0 else alpha * uni_probs[word2]"
   ]
  },
  {
   "cell_type": "code",
   "execution_count": 22,
   "id": "e849999c",
   "metadata": {},
   "outputs": [],
   "source": [
    "def get_p_abs_tri(word1, word2, word3, unigrams, bigrams, trigrams, uni_probs, bi_probs, tri_probs, vocab, D):\n",
    "    if (word1 in trigrams.keys()) and (word2 in trigrams[word1].keys()) and (word3 in trigrams[word1][word2].keys()):\n",
    "        total = 0\n",
    "        for word in trigrams[word1][word2]:\n",
    "            total += trigrams[word1][word2][word]\n",
    "        return max((trigrams[word1][word2][word3] - D) / total, 0)\n",
    "    else:\n",
    "        if (word1, word2, word3) in alphas.keys():\n",
    "            alpha = alphas[(word1, word2, word3)]\n",
    "        else:\n",
    "            alpha = get_alpha_bi(word1, word2, vocab, bi_probs, trigrams, D)\n",
    "            alphas[(word1, word2, word3)] = alpha\n",
    "            \n",
    "        if (word2, word3) in calculated_probs:\n",
    "            p_abs_2 = calculated_probs[(word2, word3)]\n",
    "        else:\n",
    "            p_abs_2 = get_p_abs_bi(word2, word3, unigrams, bigrams, uni_probs, D)\n",
    "            calculated_probs[(word2, word3)] = p_abs_2\n",
    "        return p_abs_2 if alpha==0 else alpha * p_abs_2"
   ]
  },
  {
   "cell_type": "markdown",
   "id": "f5a1428b",
   "metadata": {},
   "source": [
    "Below is an example we hand-calculated the probability for. The output matches our calculation."
   ]
  },
  {
   "cell_type": "code",
   "execution_count": 23,
   "id": "8fb180e0",
   "metadata": {},
   "outputs": [
    {
     "data": {
      "text/plain": [
       "0.015625"
      ]
     },
     "execution_count": 23,
     "metadata": {},
     "output_type": "execute_result"
    }
   ],
   "source": [
    "# Example\n",
    "get_p_abs_tri('<s>', 'to', 'this', unigrams, bigrams, trigrams, uni_probs, bi_probs, tri_probs, vocab, D=0.5)"
   ]
  },
  {
   "cell_type": "markdown",
   "id": "49f38e6e",
   "metadata": {},
   "source": [
    "## Perplexity"
   ]
  },
  {
   "cell_type": "code",
   "execution_count": 24,
   "id": "a3bdeade",
   "metadata": {},
   "outputs": [],
   "source": [
    "def perplexity(test_sentences, unigrams, bigrams, trigrams, uni_probs, bi_probs, tri_probs, vocab, D=0.5):\n",
    "    total_log_prob = 0\n",
    "    total_trigrams = 0\n",
    "\n",
    "    with open(test_sentences) as f:\n",
    "        for line in tqdm(f):\n",
    "            words = ['<s>'] + line.split() + ['</s>']\n",
    "\n",
    "            for i in range(2, len(words)):\n",
    "                a = words[i - 2] if words[i - 2] in vocab else '<UNK>'\n",
    "                b = words[i - 1] if words[i - 1] in vocab else '<UNK>'\n",
    "                c = words[i] if words[i] in vocab else '<UNK>'\n",
    "\n",
    "                trigram_prob = get_p_abs_tri(a,b,c, unigrams, bigrams, trigrams, uni_probs, bi_probs, tri_probs, vocab, D)\n",
    "\n",
    "                if trigram_prob == 0:\n",
    "                    trigram_prob = 1e-9\n",
    "                \n",
    "                try:\n",
    "                    total_log_prob += log10(trigram_prob)\n",
    "                except:\n",
    "                    print(a,b,c)\n",
    "                    print(trigram_prob)\n",
    "                    print(log10(trigram_prob))\n",
    "\n",
    "            total_trigrams += len(words)\n",
    "\n",
    "    return 10 ** ((-1) * (total_log_prob / total_trigrams))"
   ]
  },
  {
   "cell_type": "code",
   "execution_count": 25,
   "id": "95496c19",
   "metadata": {},
   "outputs": [],
   "source": [
    "test_sentences = '../data/dev'"
   ]
  },
  {
   "cell_type": "code",
   "execution_count": 26,
   "id": "c83a15e9",
   "metadata": {
    "scrolled": true
   },
   "outputs": [
    {
     "name": "stderr",
     "output_type": "stream",
     "text": [
      "10000it [16:23, 10.17it/s]\n"
     ]
    },
    {
     "data": {
      "text/plain": [
       "74.23728334863344"
      ]
     },
     "execution_count": 26,
     "metadata": {},
     "output_type": "execute_result"
    }
   ],
   "source": [
    "perplexity(test_sentences, unigrams, bigrams, trigrams, uni_probs, bi_probs, tri_probs, vocab, D=0.5)"
   ]
  }
 ],
 "metadata": {
  "kernelspec": {
   "display_name": "Python 3 (ipykernel)",
   "language": "python",
   "name": "python3"
  },
  "language_info": {
   "codemirror_mode": {
    "name": "ipython",
    "version": 3
   },
   "file_extension": ".py",
   "mimetype": "text/x-python",
   "name": "python",
   "nbconvert_exporter": "python",
   "pygments_lexer": "ipython3",
   "version": "3.9.7"
  }
 },
 "nbformat": 4,
 "nbformat_minor": 5
}
